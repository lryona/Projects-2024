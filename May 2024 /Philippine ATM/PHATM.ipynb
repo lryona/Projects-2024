{
 "cells": [
  {
   "cell_type": "code",
   "execution_count": 1,
   "id": "5861d4e2",
   "metadata": {},
   "outputs": [],
   "source": [
    "balance = 2000"
   ]
  },
  {
   "cell_type": "code",
   "execution_count": 2,
   "id": "f2ba0b9e",
   "metadata": {},
   "outputs": [],
   "source": [
    "def check_balance():\n",
    "    print(\"Your current balance is: PHP \" + str(balance))"
   ]
  },
  {
   "cell_type": "code",
   "execution_count": 4,
   "id": "d35d6e98",
   "metadata": {},
   "outputs": [],
   "source": [
    "def withdraw(amount):\n",
    "    global balance\n",
    "    if amount > balance:\n",
    "        print(\"Insufficient funds.\")\n",
    "    else:\n",
    "        balance -= amount\n",
    "        print(\"Withdraw successful. Your current balance is: PHP \" + str(balance))"
   ]
  },
  {
   "cell_type": "code",
   "execution_count": 6,
   "id": "45f05d00",
   "metadata": {},
   "outputs": [],
   "source": [
    "def deposit(amount):\n",
    "    global balance\n",
    "    balance += amount\n",
    "    print(\"Deposit successful. Your current balance is: PHP \" + str(balance))"
   ]
  },
  {
   "cell_type": "code",
   "execution_count": 7,
   "id": "0fd20d02",
   "metadata": {},
   "outputs": [],
   "source": [
    "def main():\n",
    "    while True:\n",
    "        print(\"\\nPhilippine ATM Machine:\")\n",
    "        print(\"[1] Check Balance\")\n",
    "        print(\"[2] Withdraw\")\n",
    "        print(\"[3] Deposit\")\n",
    "        print(\"[4] Quit\")\n",
    "        \n",
    "        choice = int(input(\"Enter a number: \"))\n",
    "        \n",
    "        if choice == 1:\n",
    "            check_balance()\n",
    "        elif choice == 2:\n",
    "            amount = float(input(\"Enter your withdrawal amount: PHP \"))\n",
    "            withdraw(amount)\n",
    "        elif choice == 3:\n",
    "            amount = float(input(\"Enter your deposit amount: PHP \"))\n",
    "            deposit(amount)\n",
    "        elif choice == 4:\n",
    "            print(\"Thank you for using Philippine ATM Machine.\")\n",
    "            break\n",
    "        else:\n",
    "            print(\"Invalid choice. Please try again.\")"
   ]
  },
  {
   "cell_type": "code",
   "execution_count": 9,
   "id": "4d08bf00",
   "metadata": {},
   "outputs": [
    {
     "name": "stdout",
     "output_type": "stream",
     "text": [
      "\n",
      "Philippine ATM Machine:\n",
      "[1] Check Balance\n",
      "[2] Withdraw\n",
      "[3] Deposit\n",
      "[4] Quit\n",
      "Enter a number: 1\n",
      "Your current balance is: PHP 2000\n",
      "\n",
      "Philippine ATM Machine:\n",
      "[1] Check Balance\n",
      "[2] Withdraw\n",
      "[3] Deposit\n",
      "[4] Quit\n",
      "Enter a number: 2\n",
      "Enter your withdrawal amount: PHP 100\n",
      "Withdraw successful. Your current balance is: PHP 1900.0\n",
      "\n",
      "Philippine ATM Machine:\n",
      "[1] Check Balance\n",
      "[2] Withdraw\n",
      "[3] Deposit\n",
      "[4] Quit\n",
      "Enter a number: 3\n",
      "Enter your deposit amount: PHP 100\n",
      "Deposit successful. Your current balance is: PHP 2000.0\n",
      "\n",
      "Philippine ATM Machine:\n",
      "[1] Check Balance\n",
      "[2] Withdraw\n",
      "[3] Deposit\n",
      "[4] Quit\n",
      "Enter a number: 2\n",
      "Enter your withdrawal amount: PHP 3000\n",
      "Insufficient funds.\n",
      "\n",
      "Philippine ATM Machine:\n",
      "[1] Check Balance\n",
      "[2] Withdraw\n",
      "[3] Deposit\n",
      "[4] Quit\n",
      "Enter a number: 1\n",
      "Your current balance is: PHP 2000.0\n",
      "\n",
      "Philippine ATM Machine:\n",
      "[1] Check Balance\n",
      "[2] Withdraw\n",
      "[3] Deposit\n",
      "[4] Quit\n",
      "Enter a number: 2\n",
      "Enter your withdrawal amount: PHP 2000\n",
      "Withdraw successful. Your current balance is: PHP 0.0\n",
      "\n",
      "Philippine ATM Machine:\n",
      "[1] Check Balance\n",
      "[2] Withdraw\n",
      "[3] Deposit\n",
      "[4] Quit\n",
      "Enter a number: 3\n",
      "Enter your deposit amount: PHP 5000\n",
      "Deposit successful. Your current balance is: PHP 5000.0\n",
      "\n",
      "Philippine ATM Machine:\n",
      "[1] Check Balance\n",
      "[2] Withdraw\n",
      "[3] Deposit\n",
      "[4] Quit\n",
      "Enter a number: 8\n",
      "Invalid choice. Please try again.\n",
      "\n",
      "Philippine ATM Machine:\n",
      "[1] Check Balance\n",
      "[2] Withdraw\n",
      "[3] Deposit\n",
      "[4] Quit\n",
      "Enter a number: 4\n",
      "Thank you for using Philippine ATM Machine.\n"
     ]
    }
   ],
   "source": [
    "if __name__ == \"__main__\":\n",
    "    main()"
   ]
  },
  {
   "cell_type": "code",
   "execution_count": null,
   "id": "283e3537",
   "metadata": {},
   "outputs": [],
   "source": []
  }
 ],
 "metadata": {
  "kernelspec": {
   "display_name": "Python 3 (ipykernel)",
   "language": "python",
   "name": "python3"
  },
  "language_info": {
   "codemirror_mode": {
    "name": "ipython",
    "version": 3
   },
   "file_extension": ".py",
   "mimetype": "text/x-python",
   "name": "python",
   "nbconvert_exporter": "python",
   "pygments_lexer": "ipython3",
   "version": "3.11.5"
  }
 },
 "nbformat": 4,
 "nbformat_minor": 5
}
